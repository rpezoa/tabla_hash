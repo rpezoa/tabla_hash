{
 "cells": [
  {
   "cell_type": "markdown",
   "metadata": {},
   "source": [
    "# Ejemplo Tabla Hash\n",
    "***\n",
    "Desarrollado por Raquel Pezoa, basado en: [How to Implement a Hash Table in Python](https://stephenagrice.medium.com/how-to-implement-a-hash-table-in-python-1eb6c55019fd).\n",
    "\n",
    "- Ejemplo que implementa una tabla hash, usando el lenguaje de programación Python \n",
    "- Tabla hash almacena el par \"llave, valor\" correspondiente a a \"rut, nombre\"\n",
    "- Uso de función hash \"método de la división\"\n",
    "\n",
    "<img src =\"hashTable.png\" width = \"400\">\n"
   ]
  },
  {
   "attachments": {},
   "cell_type": "markdown",
   "metadata": {},
   "source": [
    "## Definición de estructura tabla hash\n",
    "***\n"
   ]
  },
  {
   "cell_type": "code",
   "execution_count": 1,
   "metadata": {},
   "outputs": [],
   "source": [
    "m = 13\n",
    "\n",
    "# Estructura que almancena elemenentos del tipo (llave, valor)\n",
    "class Nodo:\n",
    "        def __init__(self, llave, valor):\n",
    "            self.llave = llave # identificador único\n",
    "            self.valor = valor # valor asociado a la llave\n",
    "            self.next = None\n",
    "\n",
    "# Estructura de la tabla hash\n",
    "class TablaHash:\n",
    "    def __init__(self):\n",
    "        self.capacidad= m # número de elementos que puede almacenar la tabla hash\n",
    "        self.tamano = 0 # elementos que realmente está almancenando la tabla hash\n",
    "        self.buckets = [None] * self.capacidad # define las \"cajitas\" (slots/buckets) de la tabla hash\n",
    "                \n",
    "    def hash_div(self, llave):\n",
    "        # Función hash que retorna el índice del arreglo donde se almacenará \n",
    "        # elemento que tiene la llave indicada\n",
    "        print(\"Retornando índice\",llave % self.capacidad , \"para llave\", llave)\n",
    "        return llave % self.capacidad\n",
    "    \n",
    "    def insertar(self, llave, valor):\n",
    "        # Método que inserta elementos en la tabla hash\n",
    "        \n",
    "        # 1. Aumenta tamaño \n",
    "        self.tamano += 1\n",
    "\n",
    "        # 2. Calcula el índice usando función hash \n",
    "        indice = self.hash_div(llave)\n",
    "\n",
    "        # Va al nodo correspondiente \n",
    "        nodo = self.buckets[indice]\n",
    "\n",
    "        # 3. Si el bucket es vacío\n",
    "        if nodo is None:\n",
    "            # Crea nodo con llave y valor y retorna\n",
    "            self.buckets[indice] = Nodo(llave, valor)\n",
    "            return\n",
    "\n",
    "        #4. Si no es None --> ¡colisión! \n",
    "        # Itera al final de la lista enlazada del índice indicado\n",
    "        prev = nodo\n",
    "        while nodo is not None:\n",
    "            prev = nodo\n",
    "            nodo = nodo.next\n",
    "\n",
    "        # Agrega un nuevo nodo al final de las lista con el par\n",
    "        # llave/valor entregado\n",
    "        prev.next = Nodo(llave, valor)\n",
    "        \n",
    "    def buscar(self, llave):\n",
    "        # 1. Calcula hash\n",
    "        indice = self.hash_div(llave)\n",
    "\n",
    "        # 2.Va al primer nodo de la lista de buckets\n",
    "        nodo = self.buckets[indice]\n",
    "\n",
    "        # 3. Recorre la lista enlazada del nodo\n",
    "\n",
    "        while nodo is not None and nodo.llave != llave:\n",
    "            nodo = nodo.next\n",
    "\n",
    "        # 4.  Nodo se toma el valor de la clave indicada\n",
    "        if nodo is None:\n",
    "            # No se encontró\n",
    "            return None\n",
    "        else:\n",
    "            # Se encontró, y retorna el valor\n",
    "            return nodo.valor\n",
    "\n",
    "    \n",
    "    def borrar(self, llave):\n",
    "\n",
    "        # 1. Calcula hash\n",
    "        indice = self.hash_div(llave)\n",
    "        nodo = self.buckets[indice]\n",
    "        prev = None\n",
    "\n",
    "        # 2. Itera sobre la lista del nodo\n",
    "        while nodo is not None and nodo.key != key:\n",
    "            prev = nodo\n",
    "            nodo = nodo.next\n",
    "        # nodo es el nodo requerido  o None\n",
    "        if nodo is None:\n",
    "            # 3. Llave no encontrada\n",
    "            return None\n",
    "        else:\n",
    "            # 4. Llave encontrada\n",
    "            self.tamano -= 1\n",
    "            result = nodo.valor\n",
    "            # Borra el elemento en la lista enlazada\n",
    "            if prev is None:\n",
    "                nodo = None\n",
    "            else:\n",
    "                prev.next = prev.next.next\n",
    "            # Retorna lo borrado\n",
    "\n",
    "            return result\n",
    "        \n",
    "    def display_hash(self):\n",
    "        for i in range(self.capacidad):\n",
    "            print(\"indice:\", i, \":\")\n",
    "            if self.buckets[i] != None:\n",
    "                nodo = self.buckets[i]\n",
    "                #print(\"!!\",self.buckets[i])\n",
    "                while nodo is not None:\n",
    "                    prev = nodo\n",
    "                    print(\"\\t(\", nodo.llave, \",\", nodo.valor, \")\")\n",
    "                    nodo = nodo.next\n",
    "                    \n",
    "                    \n",
    "                    \n",
    "            "
   ]
  },
  {
   "cell_type": "markdown",
   "metadata": {},
   "source": [
    "## Creación Tabla Hash\n",
    "***"
   ]
  },
  {
   "cell_type": "code",
   "execution_count": 2,
   "metadata": {},
   "outputs": [],
   "source": [
    "ht = TablaHash() # Crea tabla hash, incialmente sin elementos"
   ]
  },
  {
   "cell_type": "code",
   "execution_count": 3,
   "metadata": {},
   "outputs": [
    {
     "data": {
      "text/plain": [
       "[None, None, None, None, None, None, None, None, None, None, None, None, None]"
      ]
     },
     "execution_count": 3,
     "metadata": {},
     "output_type": "execute_result"
    }
   ],
   "source": [
    "ht.buckets"
   ]
  },
  {
   "cell_type": "markdown",
   "metadata": {},
   "source": [
    "## Insertar elementos\n",
    "***\n",
    "Cada elememento es insertado en la posición entregada por la función hash"
   ]
  },
  {
   "cell_type": "code",
   "execution_count": 4,
   "metadata": {},
   "outputs": [
    {
     "name": "stdout",
     "output_type": "stream",
     "text": [
      "Retornando índice 10 para llave 15200000\n",
      "Retornando índice 6 para llave 19000000\n",
      "Retornando índice 12 para llave 12000000\n",
      "Retornando índice 1 para llave 14000000\n"
     ]
    }
   ],
   "source": [
    "ht.insertar(15200000, \"Lionel Messi\")\n",
    "ht.insertar(19000000, \"Kylian Mbappé\")\n",
    "ht.insertar(12000000, \"Cristiano Ronaldo\")\n",
    "ht.insertar(14000000, \"Neymar Junior\")"
   ]
  },
  {
   "cell_type": "code",
   "execution_count": 5,
   "metadata": {},
   "outputs": [
    {
     "name": "stdout",
     "output_type": "stream",
     "text": [
      "Retornando índice 4 para llave 17000000\n",
      "Retornando índice 11 para llave 11000000\n",
      "Retornando índice 0 para llave 12220000\n",
      "Retornando índice 5 para llave 14100000\n"
     ]
    }
   ],
   "source": [
    "ht.insertar(17000000, \"Luka Modric\")\n",
    "ht.insertar(11000000, \"Luis Suárez\")\n",
    "ht.insertar(12220000, \"Robert Lewandowski\")\n",
    "ht.insertar(14100000, \"Dusan Vlahovic\")"
   ]
  },
  {
   "cell_type": "code",
   "execution_count": 6,
   "metadata": {},
   "outputs": [
    {
     "name": "stdout",
     "output_type": "stream",
     "text": [
      "Retornando índice 7 para llave 20000000\n",
      "Retornando índice 8 para llave 21000000\n",
      "Retornando índice 10 para llave 22220000\n",
      "Retornando índice 8 para llave 4100000\n"
     ]
    }
   ],
   "source": [
    "ht.insertar(20000000, \"Lautaro Rodríguez\")\n",
    "ht.insertar(21000000, \"Emiliano Martínez\")\n",
    "ht.insertar(22220000, \"Leandro Paredes\")\n",
    "ht.insertar(4100000, \"Franco Armani\")"
   ]
  },
  {
   "cell_type": "code",
   "execution_count": 7,
   "metadata": {},
   "outputs": [
    {
     "name": "stdout",
     "output_type": "stream",
     "text": [
      "Retornando índice 9 para llave 13000009\n",
      "Retornando índice 1 para llave 14222222\n",
      "Retornando índice 0 para llave 13333333\n",
      "Retornando índice 8 para llave 4100000\n"
     ]
    }
   ],
   "source": [
    "ht.insertar(13000009, \"Harry Kane\")\n",
    "ht.insertar(14222222, \"Papu Gomez\")\n",
    "ht.insertar(13333333, \"Nicolas Tagliafico\")\n",
    "ht.insertar(4100000, \"Pedri\")"
   ]
  },
  {
   "cell_type": "markdown",
   "metadata": {},
   "source": [
    "## Mostrar tabla Hash\n",
    "***"
   ]
  },
  {
   "cell_type": "code",
   "execution_count": 8,
   "metadata": {},
   "outputs": [
    {
     "name": "stdout",
     "output_type": "stream",
     "text": [
      "indice: 0 :\n",
      "\t( 12220000 , Robert Lewandowski )\n",
      "\t( 13333333 , Nicolas Tagliafico )\n",
      "indice: 1 :\n",
      "\t( 14000000 , Neymar Junior )\n",
      "\t( 14222222 , Papu Gomez )\n",
      "indice: 2 :\n",
      "indice: 3 :\n",
      "indice: 4 :\n",
      "\t( 17000000 , Luka Modric )\n",
      "indice: 5 :\n",
      "\t( 14100000 , Dusan Vlahovic )\n",
      "indice: 6 :\n",
      "\t( 19000000 , Kylian Mbappé )\n",
      "indice: 7 :\n",
      "\t( 20000000 , Lautaro Rodríguez )\n",
      "indice: 8 :\n",
      "\t( 21000000 , Emiliano Martínez )\n",
      "\t( 4100000 , Franco Armani )\n",
      "\t( 4100000 , Pedri )\n",
      "indice: 9 :\n",
      "\t( 13000009 , Harry Kane )\n",
      "indice: 10 :\n",
      "\t( 15200000 , Lionel Messi )\n",
      "\t( 22220000 , Leandro Paredes )\n",
      "indice: 11 :\n",
      "\t( 11000000 , Luis Suárez )\n",
      "indice: 12 :\n",
      "\t( 12000000 , Cristiano Ronaldo )\n"
     ]
    }
   ],
   "source": [
    "ht.display_hash()"
   ]
  },
  {
   "cell_type": "markdown",
   "metadata": {},
   "source": [
    "## Buscar elementos\n",
    "***"
   ]
  },
  {
   "cell_type": "code",
   "execution_count": 9,
   "metadata": {},
   "outputs": [
    {
     "name": "stdout",
     "output_type": "stream",
     "text": [
      "Retornando índice 10 para llave 15200000\n"
     ]
    },
    {
     "data": {
      "text/plain": [
       "'Lionel Messi'"
      ]
     },
     "execution_count": 9,
     "metadata": {},
     "output_type": "execute_result"
    }
   ],
   "source": [
    "ht.buscar(15200000)"
   ]
  },
  {
   "cell_type": "code",
   "execution_count": 10,
   "metadata": {},
   "outputs": [
    {
     "name": "stdout",
     "output_type": "stream",
     "text": [
      "Retornando índice 10 para llave 22220000\n"
     ]
    },
    {
     "data": {
      "text/plain": [
       "'Leandro Paredes'"
      ]
     },
     "execution_count": 10,
     "metadata": {},
     "output_type": "execute_result"
    }
   ],
   "source": [
    "ht.buscar(22220000)"
   ]
  }
 ],
 "metadata": {
  "kernelspec": {
   "display_name": "Python 3",
   "language": "python",
   "name": "python3"
  },
  "language_info": {
   "codemirror_mode": {
    "name": "ipython",
    "version": 3
   },
   "file_extension": ".py",
   "mimetype": "text/x-python",
   "name": "python",
   "nbconvert_exporter": "python",
   "pygments_lexer": "ipython3",
   "version": "3.7.4"
  }
 },
 "nbformat": 4,
 "nbformat_minor": 5
}
